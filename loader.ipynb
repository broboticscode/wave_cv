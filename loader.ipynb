{
 "cells": [
  {
   "cell_type": "code",
   "execution_count": 16,
   "metadata": {},
   "outputs": [
    {
     "name": "stdout",
     "output_type": "stream",
     "text": [
      "2.1.6-tf\n"
     ]
    }
   ],
   "source": [
    "#Python2 notebook\n",
    "\n",
    "#from __future__ import absolute_import, division, print_function\n",
    "\n",
    "import matplotlib.pylab as plt\n",
    "\n",
    "import tensorflow as tf\n",
    "import tensorflow_hub as hub\n",
    "\n",
    "from tensorflow.keras import layers\n",
    "import shutil\n",
    "\n",
    "tf.VERSION\n",
    "\n",
    "print(tf.keras.__version__)\n",
    "\n",
    "import numpy as np\n",
    "import PIL.Image as Image\n"
   ]
  },
  {
   "cell_type": "code",
   "execution_count": 3,
   "metadata": {},
   "outputs": [],
   "source": [
    "import tensorflow.keras.backend as K\n"
   ]
  },
  {
   "cell_type": "code",
   "execution_count": 14,
   "metadata": {},
   "outputs": [
    {
     "name": "stdout",
     "output_type": "stream",
     "text": [
      "INFO:tensorflow:Saver not created because there are no variables in the graph to restore\n"
     ]
    },
    {
     "name": "stderr",
     "output_type": "stream",
     "text": [
      "I0520 23:40:11.341658 140641929045824 tf_logging.py:115] Saver not created because there are no variables in the graph to restore\n"
     ]
    },
    {
     "name": "stdout",
     "output_type": "stream",
     "text": [
      "_________________________________________________________________\n",
      "Layer (type)                 Output Shape              Param #   \n",
      "=================================================================\n",
      "lambda_2 (Lambda)            (None, 1280)              0         \n",
      "_________________________________________________________________\n",
      "dense_1 (Dense)              (None, 20)                25620     \n",
      "=================================================================\n",
      "Total params: 25,620\n",
      "Trainable params: 25,620\n",
      "Non-trainable params: 0\n",
      "_________________________________________________________________\n"
     ]
    }
   ],
   "source": [
    "#model_prime = tf.contrib.saved_model.load_keras_model(\"./saved_models/1558340790\")\n",
    "\n",
    "num_classes=20\n",
    "\n",
    "feature_extractor_url = \"https://tfhub.dev/google/imagenet/mobilenet_v2_100_224/feature_vector/2\" #@param {type:\"string\"}\n",
    "def feature_extractor(x):\n",
    "  feature_extractor_module = hub.Module(feature_extractor_url)\n",
    "  return feature_extractor_module(x)\n",
    "\n",
    "IMAGE_SIZE=[224, 224]\n",
    "features_extractor_layer = layers.Lambda(feature_extractor, input_shape=IMAGE_SIZE+[3])\n",
    "features_extractor_layer.trainable = False\n",
    "\n",
    "model = tf.keras.Sequential([\n",
    "  features_extractor_layer,\n",
    "  layers.Dense(num_classes, activation='softmax')\n",
    "])\n",
    "\n",
    "\n",
    "\n",
    "# model_prime=tf.keras.models.load_model(\n",
    "#     \"my_model_keras.h5\"\n",
    "# )\n",
    "model.load_weights('./checkpoints/my_checkpoint')\n",
    "\n",
    "model.summary()"
   ]
  },
  {
   "cell_type": "code",
   "execution_count": 18,
   "metadata": {},
   "outputs": [
    {
     "name": "stdout",
     "output_type": "stream",
     "text": [
      "[0.01447426 0.03767716 0.04567543 0.03529134 0.03140055 0.01993838\n",
      " 0.23186637 0.17388755 0.00448471 0.02254002 0.02692392 0.01961858\n",
      " 0.07509694 0.01185911 0.00253814 0.02059324 0.04529729 0.07819574\n",
      " 0.02260993 0.08003139]\n",
      "-0.6\n"
     ]
    }
   ],
   "source": [
    "import tensorflow.keras.backend as K\n",
    "sess = K.get_session()\n",
    "init = tf.global_variables_initializer()\n",
    "\n",
    "init = tf.global_variables_initializer()\n",
    "sess.run(init)\n",
    "# result = model.predict(image_batch)\n",
    "# result.shape\n",
    "#label_names = sorted(image_data.class_indices.items(), key=lambda pair:pair[1])\n",
    "#label_names = np.array([key.title() for key, value in label_names])\n",
    "#print(label_names)\n",
    "# predicted_class = np.argmax(result[0], axis=-1)\n",
    "# predicted_class\n",
    "grace_hopper = \"/home/tom/Documents/bots/wave_vision/sorted/-1.1/562.jpg\"\n",
    "grace_hopper = Image.open(grace_hopper).resize(IMAGE_SIZE)\n",
    "grace_hopper\n",
    "grace_hopper = np.array(grace_hopper)/255.0\n",
    "grace_hopper.shape\n",
    "\n",
    "result = model.predict(grace_hopper[np.newaxis, ...])\n",
    "result.shape\n",
    "print(result[0])\n",
    "label_names=['-0.0', '-0.1', '-0.2', '-0.3', '-0.4', '-0.5' ,'-0.6' ,'-0.7', '-0.8', '-0.9'\n",
    " '-1.0' ,'-1.1' ,'-1.2' ,'0.0' ,'0.1', '0.2', '0.3', '0.4' ,'0.5', '0.6']\n",
    "print(label_names[np.argmax(result[0], axis=-1)])"
   ]
  },
  {
   "cell_type": "code",
   "execution_count": null,
   "metadata": {},
   "outputs": [],
   "source": []
  }
 ],
 "metadata": {
  "kernelspec": {
   "display_name": "Python 2",
   "language": "python",
   "name": "python2"
  },
  "language_info": {
   "codemirror_mode": {
    "name": "ipython",
    "version": 2
   },
   "file_extension": ".py",
   "mimetype": "text/x-python",
   "name": "python",
   "nbconvert_exporter": "python",
   "pygments_lexer": "ipython2",
   "version": "2.7.12"
  }
 },
 "nbformat": 4,
 "nbformat_minor": 2
}
