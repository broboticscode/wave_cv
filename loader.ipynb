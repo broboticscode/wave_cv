{
 "cells": [
  {
   "cell_type": "code",
   "execution_count": 1,
   "metadata": {},
   "outputs": [
    {
     "name": "stderr",
     "output_type": "stream",
     "text": [
      "WARNING: Logging before flag parsing goes to stderr.\n",
      "W0521 00:16:26.936980 140254649030464 __init__.py:56] Some hub symbols are not available because TensorFlow version is less than 1.14\n"
     ]
    },
    {
     "name": "stdout",
     "output_type": "stream",
     "text": [
      "2.1.6-tf\n"
     ]
    }
   ],
   "source": [
    "#Python2 notebook\n",
    "\n",
    "#from __future__ import absolute_import, division, print_function\n",
    "import numpy as np\n",
    "\n",
    "import tensorflow as tf\n",
    "import tensorflow_hub as hub\n",
    "\n",
    "from tensorflow.keras import layers\n",
    "import shutil\n",
    "\n",
    "tf.VERSION\n",
    "\n",
    "print(tf.keras.__version__)\n",
    "\n",
    "import numpy as np\n",
    "import PIL.Image as Image\n"
   ]
  },
  {
   "cell_type": "code",
   "execution_count": 2,
   "metadata": {},
   "outputs": [],
   "source": [
    "import tensorflow.keras.backend as K\n"
   ]
  },
  {
   "cell_type": "code",
   "execution_count": 3,
   "metadata": {},
   "outputs": [
    {
     "name": "stdout",
     "output_type": "stream",
     "text": [
      "INFO:tensorflow:Saver not created because there are no variables in the graph to restore\n"
     ]
    },
    {
     "name": "stderr",
     "output_type": "stream",
     "text": [
      "I0521 00:16:33.745599 140254649030464 tf_logging.py:115] Saver not created because there are no variables in the graph to restore\n"
     ]
    },
    {
     "name": "stdout",
     "output_type": "stream",
     "text": [
      "_________________________________________________________________\n",
      "Layer (type)                 Output Shape              Param #   \n",
      "=================================================================\n",
      "lambda (Lambda)              (None, 1280)              0         \n",
      "_________________________________________________________________\n",
      "dense (Dense)                (None, 20)                25620     \n",
      "=================================================================\n",
      "Total params: 25,620\n",
      "Trainable params: 25,620\n",
      "Non-trainable params: 0\n",
      "_________________________________________________________________\n"
     ]
    }
   ],
   "source": [
    "#model_prime = tf.contrib.saved_model.load_keras_model(\"./saved_models/1558340790\")\n",
    "\n",
    "num_classes=20\n",
    "\n",
    "feature_extractor_url = \"https://tfhub.dev/google/imagenet/mobilenet_v2_100_224/feature_vector/2\" #@param {type:\"string\"}\n",
    "def feature_extractor(x):\n",
    "  feature_extractor_module = hub.Module(feature_extractor_url)\n",
    "  return feature_extractor_module(x)\n",
    "\n",
    "IMAGE_SIZE=[224, 224]\n",
    "features_extractor_layer = layers.Lambda(feature_extractor, input_shape=IMAGE_SIZE+[3])\n",
    "features_extractor_layer.trainable = False\n",
    "\n",
    "model = tf.keras.Sequential([\n",
    "  features_extractor_layer,\n",
    "  layers.Dense(num_classes, activation='softmax')\n",
    "])\n",
    "model.compile(\n",
    "  optimizer=tf.train.AdamOptimizer(), \n",
    "  loss='categorical_crossentropy',\n",
    "  metrics=['accuracy'])\n",
    "\n",
    "\n",
    "# model_prime=tf.keras.models.load_model(\n",
    "#     \"my_model_keras.h5\"\n",
    "# )\n",
    "model.load_weights('./checkpoints/my_checkpoint')\n",
    "\n",
    "model.summary()"
   ]
  },
  {
   "cell_type": "code",
   "execution_count": 9,
   "metadata": {},
   "outputs": [
    {
     "name": "stdout",
     "output_type": "stream",
     "text": [
      "[0.03812793 0.02863006 0.18368037 0.06863085 0.02597741 0.02396297\n",
      " 0.05272301 0.20109089 0.06619924 0.0154783  0.04909349 0.01461654\n",
      " 0.05394941 0.00626709 0.00589527 0.03517053 0.01788932 0.02438502\n",
      " 0.01187682 0.07635549]\n",
      "-0.7\n"
     ]
    }
   ],
   "source": [
    "import tensorflow.keras.backend as K\n",
    "sess = K.get_session()\n",
    "init = tf.global_variables_initializer()\n",
    "sess.run(init)\n",
    "\n",
    "# result = model.predict(image_batch)\n",
    "# result.shape\n",
    "#label_names = sorted(image_data.class_indices.items(), key=lambda pair:pair[1])\n",
    "#label_names = np.array([key.title() for key, value in label_names])\n",
    "#print(label_names)\n",
    "# predicted_class = np.argmax(result[0], axis=-1)\n",
    "# predicted_class\n",
    "grace_hopper = \"/home/tom/Documents/bots/wave_vision/sorted/-1.2/1736.jpg\"\n",
    "grace_hopper = Image.open(grace_hopper).resize(IMAGE_SIZE)\n",
    "grace_hopper\n",
    "grace_hopper = np.array(grace_hopper)/255.0\n",
    "grace_hopper.shape\n",
    "\n",
    "result = model.predict(grace_hopper[np.newaxis, ...])\n",
    "result.shape\n",
    "print(result[0])\n",
    "label_names=['-0.0', '-0.1', '-0.2', '-0.3', '-0.4', '-0.5' ,'-0.6' ,'-0.7', '-0.8', '-0.9'\n",
    " '-1.0' ,'-1.1' ,'-1.2' ,'0.0' ,'0.1', '0.2', '0.3', '0.4' ,'0.5', '0.6']\n",
    "\n",
    "print(label_names[np.argmax(result[0], axis=-1)])"
   ]
  },
  {
   "cell_type": "code",
   "execution_count": null,
   "metadata": {},
   "outputs": [],
   "source": []
  },
  {
   "cell_type": "code",
   "execution_count": null,
   "metadata": {},
   "outputs": [],
   "source": []
  }
 ],
 "metadata": {
  "kernelspec": {
   "display_name": "Python 2",
   "language": "python",
   "name": "python2"
  },
  "language_info": {
   "codemirror_mode": {
    "name": "ipython",
    "version": 2
   },
   "file_extension": ".py",
   "mimetype": "text/x-python",
   "name": "python",
   "nbconvert_exporter": "python",
   "pygments_lexer": "ipython2",
   "version": "2.7.12"
  }
 },
 "nbformat": 4,
 "nbformat_minor": 2
}
